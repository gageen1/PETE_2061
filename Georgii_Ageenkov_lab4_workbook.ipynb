{
 "cells": [
  {
   "cell_type": "markdown",
   "metadata": {
    "colab_type": "text",
    "id": "u1YDPNtbdHDj"
   },
   "source": [
    "# Control Structures and Data Frames\n",
    "\n",
    "## PETE 2061 Lab 4 Workbook \n",
    "\n",
    "<a id='top'></a>"
   ]
  },
  {
   "cell_type": "markdown",
   "metadata": {},
   "source": [
    "1. Paste the url (or link) to the pete2061 folder in your github account in the \"marked down\" cell below. <br>\n",
    "**2 points will be deducted if this is not attempted**"
   ]
  },
  {
   "cell_type": "markdown",
   "metadata": {},
   "source": [
    "https://github.com/gageen1/PETE_2061"
   ]
  },
  {
   "cell_type": "markdown",
   "metadata": {},
   "source": []
  },
  {
   "cell_type": "markdown",
   "metadata": {},
   "source": [
    "2. The following table lists the sound level in decibels for several common noises."
   ]
  },
  {
   "cell_type": "markdown",
   "metadata": {},
   "source": [
    "| Noise         | Decibel level (dB) |\n",
    "| ------------- | ------------------ |\n",
    "| Jackhammer    |         131        |\n",
    "| Gas lawnmower |         107        |\n",
    "| Alarm clock   |          69        |\n",
    "| Quiet room    |          41        |"
   ]
  },
  {
   "cell_type": "markdown",
   "metadata": {},
   "source": [
    "Write a program that reads a sound level in decibels from the user. If the user enters a decibel level that matches one of the noises in the table then your program should display a message containing only that noise. If the user enters a number of decibels between the noises listed then your program should display a message indicating which noises the level is between. Ensure that your program also generates reasonable output for a value smaller than the quietest noise in the table, and for a value larger than the loudest noise in the table. <br><br>\n",
    "**Hints:**<br>\n",
    "    a. Remember to convert any numbers you read in with the \"input()\" function to an integer before using it in your \"if\" statements. Eg. myInt = int(input(\"Enter any Integer\"))<br>\n",
    "    b. You can test if the number stored in a variable is between two numbers by using the \"and\" command, as discussed before. Eg. (myInt > 2 and myInt < 6) will return true if myInt is both greater than 2 and less than 6.<br>\n",
    "    c.  You will need many elif statetements in the if statement for this problem. <br><br>\n",
    "  \n",
    "**1 point will be deductded for each of the 9 possible scenarios that is missing. Half point will be deducted for each typo in these 9 possible scenarios <br>**\n",
    "**2 points will be deducted if sound level is not read in and converted into an integer before being used in the if statement <br>** "
   ]
  },
  {
   "cell_type": "code",
   "execution_count": 4,
   "metadata": {},
   "outputs": [
    {
     "name": "stdout",
     "output_type": "stream",
     "text": [
      "Enter a sound level (integer): 4\n",
      "This is less loud than Quiet room.\n"
     ]
    },
    {
     "data": {
      "text/html": [
       "<div>\n",
       "<style scoped>\n",
       "    .dataframe tbody tr th:only-of-type {\n",
       "        vertical-align: middle;\n",
       "    }\n",
       "\n",
       "    .dataframe tbody tr th {\n",
       "        vertical-align: top;\n",
       "    }\n",
       "\n",
       "    .dataframe thead th {\n",
       "        text-align: right;\n",
       "    }\n",
       "</style>\n",
       "<table border=\"1\" class=\"dataframe\">\n",
       "  <thead>\n",
       "    <tr style=\"text-align: right;\">\n",
       "      <th></th>\n",
       "      <th>Noise</th>\n",
       "      <th>Decibel level (dB)</th>\n",
       "    </tr>\n",
       "  </thead>\n",
       "  <tbody>\n",
       "    <tr>\n",
       "      <td></td>\n",
       "      <td>Jackhammer</td>\n",
       "      <td>131</td>\n",
       "    </tr>\n",
       "    <tr>\n",
       "      <td></td>\n",
       "      <td>Gas lawnmower</td>\n",
       "      <td>107</td>\n",
       "    </tr>\n",
       "    <tr>\n",
       "      <td></td>\n",
       "      <td>Alarm clock</td>\n",
       "      <td>69</td>\n",
       "    </tr>\n",
       "    <tr>\n",
       "      <td></td>\n",
       "      <td>Quiet room</td>\n",
       "      <td>41</td>\n",
       "    </tr>\n",
       "  </tbody>\n",
       "</table>\n",
       "</div>"
      ],
      "text/plain": [
       "           Noise  Decibel level (dB)\n",
       "      Jackhammer                 131\n",
       "   Gas lawnmower                 107\n",
       "     Alarm clock                  69\n",
       "      Quiet room                  41"
      ]
     },
     "execution_count": 4,
     "metadata": {},
     "output_type": "execute_result"
    }
   ],
   "source": [
    "import numpy as np\n",
    "import pandas as pd\n",
    "d_B = int(input(\"Enter a sound level (integer): \"))\n",
    "Noises = [\"Jackhammer\", \"Gas lawnmower\", \"Alarm clock\", \"Quiet room\"]\n",
    "Decibel_level = [131, 107, 69, 41]\n",
    "df = pd.DataFrame({'Noise':Noises, 'Decibel level (dB)':Decibel_level}, index = [' ', ' ', ' ', ' '])\n",
    "if (d_B == 131):\n",
    "    print (\"This is Jackhammer sound.\")\n",
    "elif (d_B>131):\n",
    "    print (\"This sound is louder than Jackhammer sound.\")\n",
    "elif (d_B<131) and (d_B>107):\n",
    "    print (\"This sound is less loud than Jackhammer sound, but louder than Gas lawnmower.\")\n",
    "elif (d_B==107):\n",
    "    print (\"This is Gas lawnmower sound.\")\n",
    "elif (d_B<107) and (d_B>69):\n",
    "    print (\"This sound is less loud than Gas lawnmower, but louder than Alarm clock.\")\n",
    "elif (d_B==69):\n",
    "    print (\"This is Alarm clock sound.\")\n",
    "elif (d_B<69) and (d_B>41):\n",
    "    print (\"This sound is less loud than Alarm clock, but louder than Quiet room.\")\n",
    "elif (d_B==41):\n",
    "    print (\"This is Quiet room sound.\")\n",
    "elif (d_B<41):\n",
    "    print (\"This is less loud than Quiet room.\")\n",
    "df"
   ]
  },
  {
   "cell_type": "code",
   "execution_count": null,
   "metadata": {},
   "outputs": [],
   "source": []
  },
  {
   "cell_type": "markdown",
   "metadata": {},
   "source": [
    "3. The table below shows the current (2019/2020) College Football Rankings and the number of wins by each team. <br>\n",
    "    a. Create a pandas DataFrame that stores the information in this table and displays this. <br>\n",
    "    ** 5 points will be deducted if this is not attempted. 2 points will be deducted if it is wrong or there is a typo** <br><br>\n",
    "    b. Display (or print out) the mean, standard deviation and maximum of the number of wins given in this dataframe. <br>\n",
    "    ** 5 points will be deducted if this is not attempted. 2 points will be deducted if it is wrong or there is a typo** <br>\n"
   ]
  },
  {
   "cell_type": "markdown",
   "metadata": {},
   "source": [
    "| School       | Number of wins |\n",
    "| ------------ | -------------- |\n",
    "| LSU          |        15      |\n",
    "| Clemson      |        14      |\n",
    "| Ohio State   |        13      |\n",
    "| Georgia      |        12      | \n",
    "| Oregon       |        12      | "
   ]
  },
  {
   "cell_type": "code",
   "execution_count": 3,
   "metadata": {},
   "outputs": [
    {
     "data": {
      "text/html": [
       "<div>\n",
       "<style scoped>\n",
       "    .dataframe tbody tr th:only-of-type {\n",
       "        vertical-align: middle;\n",
       "    }\n",
       "\n",
       "    .dataframe tbody tr th {\n",
       "        vertical-align: top;\n",
       "    }\n",
       "\n",
       "    .dataframe thead th {\n",
       "        text-align: right;\n",
       "    }\n",
       "</style>\n",
       "<table border=\"1\" class=\"dataframe\">\n",
       "  <thead>\n",
       "    <tr style=\"text-align: right;\">\n",
       "      <th></th>\n",
       "      <th>School</th>\n",
       "      <th>Number of wins</th>\n",
       "    </tr>\n",
       "  </thead>\n",
       "  <tbody>\n",
       "    <tr>\n",
       "      <td></td>\n",
       "      <td>LSU</td>\n",
       "      <td>15</td>\n",
       "    </tr>\n",
       "    <tr>\n",
       "      <td></td>\n",
       "      <td>Clemson</td>\n",
       "      <td>14</td>\n",
       "    </tr>\n",
       "    <tr>\n",
       "      <td></td>\n",
       "      <td>Ohio State</td>\n",
       "      <td>13</td>\n",
       "    </tr>\n",
       "    <tr>\n",
       "      <td></td>\n",
       "      <td>Georgia</td>\n",
       "      <td>12</td>\n",
       "    </tr>\n",
       "    <tr>\n",
       "      <td></td>\n",
       "      <td>Oregon</td>\n",
       "      <td>12</td>\n",
       "    </tr>\n",
       "  </tbody>\n",
       "</table>\n",
       "</div>"
      ],
      "text/plain": [
       "       School  Number of wins\n",
       "          LSU              15\n",
       "      Clemson              14\n",
       "   Ohio State              13\n",
       "      Georgia              12\n",
       "       Oregon              12"
      ]
     },
     "execution_count": 3,
     "metadata": {},
     "output_type": "execute_result"
    }
   ],
   "source": [
    "import numpy as np\n",
    "import pandas as pd\n",
    "school = [\"LSU\", \"Clemson\", \"Ohio State\", \"Georgia\", \"Oregon\"]\n",
    "no_w = [15, 14 ,13 ,12 ,12]\n",
    "df = pd.DataFrame({'School':school, 'Number of wins':no_w}, index = [' ', ' ', ' ', ' ', ' '])\n",
    "df"
   ]
  },
  {
   "cell_type": "code",
   "execution_count": 109,
   "metadata": {},
   "outputs": [
    {
     "name": "stdout",
     "output_type": "stream",
     "text": [
      "Mean = 13.2\n",
      "0.8049844718999246\n",
      "0.3577708763999667\n",
      "0.08944271909999127\n",
      "0.5366563145999492\n",
      "0.5366563145999492\n",
      "Average deviation is 0.4651021393199562\n",
      "Max = 15\n"
     ]
    }
   ],
   "source": [
    "df.describe()\n",
    "avg_d = 0\n",
    "max = 0\n",
    "mean = (no_w[0] + no_w[1] + no_w[2]+  no_w[3] + no_w[4])/5\n",
    "print (\"Mean =\", mean)\n",
    "for x in no_w:\n",
    "    st_d = np.sqrt(((x-mean)**2)/5)\n",
    "    print (st_d) #Not sure how many values of standard deviation should be, but I hope I did right. If average deviation is needed, it is printed below.\n",
    "    avg_d += st_d\n",
    "print (\"Average deviation is\", avg_d/5)\n",
    "for y in no_w:\n",
    "    if (max<y):\n",
    "        max = y\n",
    "        break\n",
    "print (\"Max =\", max)"
   ]
  },
  {
   "cell_type": "markdown",
   "metadata": {},
   "source": [
    "# Extra Credit (10%)\n",
    "**Attempt Problem 5 below for 10% extra credit**"
   ]
  },
  {
   "cell_type": "markdown",
   "metadata": {},
   "source": [
    "5. Write a program that generates 12 random integers between 0 and 100, and then prints the largest even number that was entered. If no even number was entered it should print a message to that effect. <br>\n",
    "Hints: <br>\n",
    "    a. Use pseudo-code. <br>\n",
    "    b. Generate a random number using the code below:<br>\n",
    "    myRandInt = np.random.randint(low=0, high=100, size=12)<br>\n",
    "    c. Initialize an empty list to contain the odd numbers. Name this list oddInt <br>\n",
    "    d. Within your for loop, you can append odd numbers to this empty list using the append function. eg: <br>\n",
    "    oddInt.append(\"The current odd number from the list should be put in here!\") <br>\n",
    "**Your code has to work perfectly to get this bonus 10%**    "
   ]
  },
  {
   "cell_type": "code",
   "execution_count": 2,
   "metadata": {},
   "outputs": [
    {
     "name": "stdout",
     "output_type": "stream",
     "text": [
      "[48 59 92 98 57 70 46  3 35  9 18 75]\n",
      "48 is an even number.\n",
      "59 is an odd number.\n",
      "92 is an even number.\n",
      "98 is an even number.\n",
      "57 is an odd number.\n",
      "70 is an even number.\n",
      "46 is an even number.\n",
      "3 is an odd number.\n",
      "35 is an odd number.\n",
      "9 is an odd number.\n",
      "18 is an even number.\n",
      "75 is an odd number.\n",
      "75 is the largest odd number.\n"
     ]
    }
   ],
   "source": [
    "import numpy as np\n",
    "import pandas as pd\n",
    "from numpy.random import randn\n",
    "Max = 0\n",
    "myRandInt = np.random.randint(low=0, high=100, size=12)\n",
    "list = np.array ([12, 11, 14, 3])\n",
    "print (myRandInt)\n",
    "oddInt = np.empty(12)\n",
    "for x in myRandInt:\n",
    "    if (x % 2 == 0) and (x>0):\n",
    "        print (x, \"is an even number.\")\n",
    "    elif (x % 2 == 1):\n",
    "        print (x, \"is an odd number.\")\n",
    "        if (Max < x):\n",
    "            Max = x\n",
    "    elif (x == 0):\n",
    "        print (x, \"it is zero.\")\n",
    "if (Max > 0):\n",
    "    print (Max, \"is the largest odd number.\")\n",
    "else:\n",
    "    print (\"There is no odd number\")\n",
    "myRandInt = oddInt\n",
    "#Suggestion - use another variable, not \"max\" in computation, otherwise it is a function which is originally maximum value."
   ]
  }
 ],
 "metadata": {
  "colab": {
   "collapsed_sections": [
    "sYQs3O-6dHFb",
    "8sIJ4A57dHFk",
    "_73RPOcBdHFn",
    "h9s2tfPcdHFo",
    "zt4YHVYPdHGR"
   ],
   "include_colab_link": true,
   "name": "Copy of intro-python-colab.ipynb",
   "provenance": [],
   "version": "0.3.2"
  },
  "kernelspec": {
   "display_name": "Python 3",
   "language": "python",
   "name": "python3"
  },
  "language_info": {
   "codemirror_mode": {
    "name": "ipython",
    "version": 3
   },
   "file_extension": ".py",
   "mimetype": "text/x-python",
   "name": "python",
   "nbconvert_exporter": "python",
   "pygments_lexer": "ipython3",
   "version": "3.7.4"
  }
 },
 "nbformat": 4,
 "nbformat_minor": 1
}
