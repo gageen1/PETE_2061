{
 "cells": [
  {
   "cell_type": "markdown",
   "metadata": {
    "colab_type": "text",
    "id": "u1YDPNtbdHDj"
   },
   "source": [
    "# PETE 2061 Mid-term Exam (Part 2) \n",
    "\n",
    "## THIS IS DUE BY 10:10 AM TODAY"
   ]
  },
  {
   "cell_type": "markdown",
   "metadata": {},
   "source": [
    "1. The production rate from an oil well has been observed to decline following either the exponential or the hyperbolic decline model. The initial oil rate ($q_i$) from this well is 10,000 bopd, and its initial decline rate ($D_i$) is 0.1% per day (which is equivalent to 0.001 per day). Write a Python code that: <br>\n",
    "    a. Reads in either \"Exp\" or \"Hyp\" using the input function, and stores the string typed in by the user into a variable named model. <br>\n",
    "    b. If the model typed in by the user is \"Exp\", use the exponential decline model, which is given as: $q = q_i \\, exp(-D_i t)$, to predict the daily oil rate for the first 3650 days (10 years) of production. <br>\n",
    "    c. If the model typed in by the user is \"Hyp\", use the hyperbolic decline model, which is given as: $q = \\frac{q_i}{(1+b D_i t)^{1/b}}$, with a b value of 0.5, to predict the daily oil rate for the first 3650 days (~10 years) of production. <br>\n",
    "    d. Plot the oil rate computed against time using the plt.plot(time,rate) function, after importing matplotlib.pyplot as plt. Remember to use the plt.show() function to display the plot in your Jupyter Notebook <br>\n",
    "    e. Compute and display the mean, minimum and standard deviation of the computed oil rates. <br>    "
   ]
  },
  {
   "cell_type": "code",
   "execution_count": 106,
   "metadata": {},
   "outputs": [
    {
     "name": "stdout",
     "output_type": "stream",
     "text": [
      "Enter either Exp or Hyp: Hyp\n",
      "Mean =  3541.0214414588495\n",
      "Minimum value =  1253.4783632869223\n",
      "Standard deviation =  1023.0203648503089\n"
     ]
    },
    {
     "data": {
      "image/png": "[encoded data removed]",
      "text/plain": [
       "<Figure size 432x288 with 1 Axes>"
      ]
     },
     "metadata": {
      "needs_background": "light"
     },
     "output_type": "display_data"
    }
   ],
   "source": [
    "import numpy as np\n",
    "import pandas as pd\n",
    "import matplotlib.pyplot as plt\n",
    "%matplotlib inline\n",
    "q_i = 10000\n",
    "D_i = 0.001\n",
    "t = np.arange(0,3650,1)\n",
    "b = 0.5\n",
    "mnmm = 0\n",
    "mean = 0\n",
    "st_d = 0\n",
    "model = str(input(\"Enter either Exp or Hyp: \"))\n",
    "if (model == \"Exp\"):\n",
    "    q = q_i*np.exp(-D_i*t)\n",
    "    plt.plot(q,'b-s')\n",
    "    plt.show()\n",
    "    mean = np.mean(q)\n",
    "    print ('Mean = ', mean)\n",
    "    for x in q:\n",
    "        if (x<q_i):\n",
    "            mnmm = x\n",
    "    print ('Minimum value = ', mnmm)\n",
    "    for x in q:\n",
    "        st_d = np.sqrt((x-mean)**2/5)\n",
    "    print ('Standard deviation = ', st_d)\n",
    "elif (model == \"Hyp\"):\n",
    "    q = q_i/((1+b*D_i*t)**(1/b))\n",
    "    mean = np.mean(q)\n",
    "    print ('Mean = ', mean)\n",
    "    for x in q:\n",
    "        if (x<q_i):\n",
    "            mnmm = x\n",
    "    print ('Minimum value = ', mnmm)\n",
    "    for x in q:\n",
    "        st_d = np.sqrt((x-mean)**2/5)\n",
    "    print ('Standard deviation = ', st_d)\n",
    "    plt.plot(q,'g-s')\n",
    "    plt.show()\n",
    "else:\n",
    "    print (\"Wrong variable entered.\")"
   ]
  },
  {
   "cell_type": "markdown",
   "metadata": {},
   "source": [
    "2. Write a Python code that generates, prints and stores 10 random integers into a variable, and then prints the smallest even number out of these 10 numbers. If no even number is present in the 10 random integers, print a message that says \"No even number in the list\". <br>\n",
    "Hints: <br>\n",
    "    a. You can generate a random number using the code below:<br>\n",
    "    myRandInt = np.random.randint(low=1, high=20, size=10)<br>\n",
    "    b. The append function works on a list named myList as follows: <br>\n",
    "    myList.append(\"The current even number from the list should be put in here!\")"
   ]
  },
  {
   "cell_type": "code",
   "execution_count": 5,
   "metadata": {},
   "outputs": [
    {
     "name": "stdout",
     "output_type": "stream",
     "text": [
      "[15 15  6  4 12  1 13  3 18 15]\n",
      "15 is an odd number.\n",
      "15 is an odd number.\n",
      "6 is an even number.\n",
      "4 is an even number.\n",
      "12 is an even number.\n",
      "1 is an odd number.\n",
      "13 is an odd number.\n",
      "3 is an odd number.\n",
      "18 is an even number.\n",
      "15 is an odd number.\n",
      "The smalles even number is 4\n"
     ]
    }
   ],
   "source": [
    "import numpy as np\n",
    "myRandInt = np.random.randint(low=1, high=20, size=10)\n",
    "print (myRandInt)\n",
    "a = 0\n",
    "myList = [] #!\n",
    "for x in myRandInt:\n",
    "    if (x % 2 == 0) and (x > 0):\n",
    "        print (x, \"is an even number.\")\n",
    "        a = a + 1\n",
    "        myList.append(x)\n",
    "    elif (x % 2 == 1) and (x > 0):\n",
    "        print (x, 'is an odd number.')\n",
    "    elif (x == 0):\n",
    "        print (x, 'it is zero')\n",
    "if (a > 0):\n",
    "    print ('The smalles even number is', min(myList))\n",
    "elif (a == 0):\n",
    "    print ('There are no even numbers.')"
   ]
  }
 ],
 "metadata": {
  "colab": {
   "collapsed_sections": [
    "sYQs3O-6dHFb",
    "8sIJ4A57dHFk",
    "_73RPOcBdHFn",
    "h9s2tfPcdHFo",
    "zt4YHVYPdHGR"
   ],
   "include_colab_link": true,
   "name": "Copy of intro-python-colab.ipynb",
   "provenance": [],
   "version": "0.3.2"
  },
  "kernelspec": {
   "display_name": "Python 3",
   "language": "python",
   "name": "python3"
  },
  "language_info": {
   "codemirror_mode": {
    "name": "ipython",
    "version": 3
   },
   "file_extension": ".py",
   "mimetype": "text/x-python",
   "name": "python",
   "nbconvert_exporter": "python",
   "pygments_lexer": "ipython3",
   "version": "3.7.4"
  }
 },
 "nbformat": 4,
 "nbformat_minor": 1
}
