{
 "cells": [
  {
   "cell_type": "markdown",
   "metadata": {
    "colab_type": "text",
    "id": "u1YDPNtbdHDj"
   },
   "source": [
    "###  #  Python Data Types\n",
    "\n",
    "## PETE 2061 Lab 3 Workbook \n",
    "\n",
    "## THIS IS DUE BY 10:20 AM TODAY\n",
    "\n",
    "<a id='top'></a>"
   ]
  },
  {
   "cell_type": "markdown",
   "metadata": {},
   "source": [
    "Step 1. Paste the url (or link) to the pete2061 folder in your github account in the \"marked down\" cell below. <br>\n",
    "**1 point will be deducted if this isn't provided**"
   ]
  },
  {
   "cell_type": "markdown",
   "metadata": {},
   "source": [
    "https://github.com/gageen1/PETE_2061"
   ]
  },
  {
   "cell_type": "markdown",
   "metadata": {
    "colab_type": "text",
    "id": "krWd44XodHDp"
   },
   "source": [
    "<a id='variables'></a>\n",
    "## Decline Curve Analysis\n",
    "Well A flows with an initial flow rate ($q_i$) of 5,000 bopd (barrels of oil per day), and has a continuous initial decline rate ($D_i$) of 9% per year. The well declines exponentially. <br><br>"
   ]
  },
  {
   "cell_type": "markdown",
   "metadata": {},
   "source": [
    "Step 2. Store the given values in appropriately named variables. (This is standard programming practice as discussed in class. You neevere want to use numbers directly in code without first storing them in variables.)<br>\n",
    "**5 points will be deducted if values are used directly in code instead of first storing them in variables, and using the variables in code. Feel free to ask questions in the lab if this is not clear yet!!!** <br><br>\n",
    "Step 3. Import numpy (I won't mention this in future lab workbooks, because you will need to import any required libraries before you can use the functions within those libraries).<br>\n",
    "** 2 points will be deducted if numpy isn't imported. Your code will also not work.**<br><br>\n",
    "Step 4. Create a one-dimensional (1D) time array called timeVec and let it store numbers from 0 through 20 in increments of 1. <br>\n",
    "**3 points will be deducted if this is not attempted. 2 points will be deducted if it doesn't work.**<br><br>\n",
    "Step 5. Write a one-line vectorized Python code that computes the rates corresponding to the times stored in timeVec, and store these rates in an array called \"rateExp\". rateExp will be the same length as timeVec.<br>\n",
    "**4 points will be deducted if this is not attempted. 2 points will be deducted if it doesn't work.**<br><br>\n",
    "Step 6. Import matplotlib.pyplot as plt, and use plt.plot() and plt.show() to plot and display a graph of rateExp versus timeVec, using a green solid line and square markers.<br>\n",
    "**4 points will be deducted if this is not attempted. 2 points will be deducted if it doesn't work.**<br><br>"
   ]
  },
  {
   "cell_type": "code",
   "execution_count": 1,
   "metadata": {},
   "outputs": [
    {
     "name": "stdout",
     "output_type": "stream",
     "text": [
      "[ 0  1  2  3  4  5  6  7  8  9 10 11 12 13 14 15 16 17 18 19]\n",
      "[5000.         4569.65592636 4176.35105706 3816.89747168 3488.38163036\n",
      " 3188.14075811 2913.74126187 2662.95900503 2433.7612798  2224.29033111\n",
      " 2032.8482987  1857.88345511 1697.97762822 1551.83470633 1418.2701325\n",
      " 1296.20130323 1184.63879341 1082.67833658  989.49349542  904.32896309]\n"
     ]
    },
    {
     "data": {
      "text/plain": [
       "<function matplotlib.pyplot.show(*args, **kw)>"
      ]
     },
     "execution_count": 1,
     "metadata": {},
     "output_type": "execute_result"
    },
    {
     "data": {
      "image/png": "[encoded data removed]",
      "text/plain": [
       "<Figure size 432x288 with 1 Axes>"
      ]
     },
     "metadata": {
      "needs_background": "light"
     },
     "output_type": "display_data"
    }
   ],
   "source": [
    "import numpy as np\n",
    "q_i = 5000\n",
    "D_i = 0.09\n",
    "timeVec = np.arange(0,20,1)\n",
    "print (timeVec)\n",
    "q = q_i*np.exp(-D_i*timeVec)\n",
    "rateExp = q\n",
    "print (rateExp)\n",
    "import matplotlib.pyplot as plt\n",
    "%matplotlib inline\n",
    "plt.plot(rateExp,'g-s')\n",
    "plt.show"
   ]
  },
  {
   "cell_type": "markdown",
   "metadata": {},
   "source": [
    "Step 7. Print the data type of the timeVec array, using the numpy function \"dtype\"<br>\n",
    "**2 points will be deducted if this is not attempted or doesn't work.**<br><br>\n",
    "Step 8. Create an array of the same shape with timeVec, call it \"rateExp2\", and initialize it to zeros.<br>\n",
    "**3 points will be deducted if this is not attempted. 2 points will be deducted if it doesn't work.**<br><br>\n",
    "Step 9. Instead of the vectorized computation of rateExp, use a for loop to compute the rate, and store this in an array called \"rateExp2\" <br>\n",
    "**5 points will be deducted if this is not attempted. 2 points will be deducted if it doesn't work.**<br><br>\n",
    "Step 10. Plot rateExp2 versus timeVec<br>\n",
    "**3 points will be deducted if this is not attempted. 2 points will be deducted if it doesn't work.**<br><br>"
   ]
  },
  {
   "cell_type": "code",
   "execution_count": 2,
   "metadata": {},
   "outputs": [
    {
     "name": "stdout",
     "output_type": "stream",
     "text": [
      "int32\n",
      "[[0 0 0 0 0 0 0 0 0 0 0 0 0 0 0 0 0 0 0 0]]\n",
      "[5000.         4569.65592636 4176.35105706 3816.89747168 3488.38163036\n",
      " 3188.14075811 2913.74126187 2662.95900503 2433.7612798  2224.29033111\n",
      " 2032.8482987  1857.88345511 1697.97762822 1551.83470633 1418.2701325\n",
      " 1296.20130323 1184.63879341 1082.67833658  989.49349542  904.32896309]\n"
     ]
    },
    {
     "data": {
      "image/png": "[encoded data removed]",
      "text/plain": [
       "<Figure size 432x288 with 1 Axes>"
      ]
     },
     "metadata": {
      "needs_background": "light"
     },
     "output_type": "display_data"
    }
   ],
   "source": [
    "print(timeVec.dtype)\n",
    "rateExp2 = np.zeros((1,20),dtype = int)\n",
    "print(rateExp2)\n",
    "for rateExp2 in range (20):\n",
    "    rateExp2 = q_i*np.exp(-D_i*timeVec)\n",
    "print(rateExp2)\n",
    "plt.plot(rateExp2,'b-s')\n",
    "plt.show()"
   ]
  },
  {
   "cell_type": "markdown",
   "metadata": {},
   "source": [
    "## Extra Credit\n",
    "For extra credit of up to 15% of the total value of this lab. Solve the following additional steps"
   ]
  },
  {
   "cell_type": "markdown",
   "metadata": {},
   "source": [
    "Step 11. Repeat steps 2 through 10, but this time, let time be in days. So, timeVec will go from 0 to 20*365. Note that instead of D_i, you will need to use D_i_inDays = D_i/365.<br>\n",
    "Step 12. Time both the vectorized calculation and the for loop, and print out the time spent in both. Which is faster?<br>\n",
    "Step 13. Using a b-exponent of 0.4 (b=0.4), compute rateHyp, which is the flow rate for a hyperbolic decline. Plot this against time. Feel free to perform the calculation using t in years or in days, but make sure to use \"D_i\" in %/yr if t is in years, and \"D_i_inDays\" in %/day if t is in days.<br>\n",
    "Step 14. Compute rateHarm, which is the flow rate for a harmonic decline. Plot this against time. Feel free to perform the calculation using t in years or in days, but make sure to use \"D_i\" in %/yr if t is in years, and \"D_i_inDays\" in %/day if t is in days.<br>\n",
    "Step 15. Compute and plot the exponential, hyperbolic and harmonic cumulative oil production (versus timeVec) all on the same graph, and show the legend. <br>"
   ]
  },
  {
   "cell_type": "code",
   "execution_count": 3,
   "metadata": {},
   "outputs": [
    {
     "name": "stdout",
     "output_type": "stream",
     "text": [
      "[   0    1    2 ... 7297 7298 7299]\n",
      "0.0002465753424657534\n",
      "[5000.         4998.76727527 4997.53485447 ...  827.10604674  826.90212792\n",
      "  826.69825939]\n"
     ]
    },
    {
     "data": {
      "image/png": "[encoded data removed]",
      "text/plain": [
       "<Figure size 432x288 with 1 Axes>"
      ]
     },
     "metadata": {
      "needs_background": "light"
     },
     "output_type": "display_data"
    },
    {
     "name": "stdout",
     "output_type": "stream",
     "text": [
      "[5000.         4998.76727527 4997.53485447 ...  827.10604674  826.90212792\n",
      "  826.69825939]\n"
     ]
    },
    {
     "data": {
      "text/plain": [
       "<function matplotlib.pyplot.show(*args, **kw)>"
      ]
     },
     "execution_count": 3,
     "metadata": {},
     "output_type": "execute_result"
    },
    {
     "data": {
      "image/png": "[encoded data removed]",
      "text/plain": [
       "<Figure size 432x288 with 1 Axes>"
      ]
     },
     "metadata": {
      "needs_background": "light"
     },
     "output_type": "display_data"
    }
   ],
   "source": [
    "timeVec2 = np.arange(0,20*365)\n",
    "D_i_inDays = D_i/365\n",
    "print(timeVec2)\n",
    "print(D_i_inDays)\n",
    "q = q_i*np.exp(-D_i_inDays*timeVec2)\n",
    "rateExp3 = q\n",
    "print(rateExp3)\n",
    "plt.plot(rateExp3,'r-s')\n",
    "plt.show()\n",
    "rateExp4 = np.zeros((1,20*365),dtype=int)\n",
    "for rateExp4 in range (timeVec2[-1]):\n",
    "    rateExp4 = q_i*np.exp(-D_i_inDays*timeVec2)\n",
    "print(rateExp4)\n",
    "plt.plot(rateExp4,'y-s')\n",
    "plt.show"
   ]
  },
  {
   "cell_type": "code",
   "execution_count": 4,
   "metadata": {},
   "outputs": [
    {
     "name": "stdout",
     "output_type": "stream",
     "text": [
      "[5000.         4576.89148597 4202.26117666 3869.19487059 3571.94648122\n",
      " 3305.71178504 3066.45126601 2850.75032266 2655.70815248 2478.84882427\n",
      " 2318.0496478  2171.48312445 2037.56963266 1914.93865266 1802.39682504\n",
      " 1698.90150958 1603.53879506 1515.50512953 1434.09191021 1358.67250377]\n",
      "[5000.         4587.1559633  4237.28813559 3937.00787402 3676.47058824\n",
      " 3448.27586207 3246.75324675 3067.48466258 2906.97674419 2762.43093923\n",
      " 2631.57894737 2512.56281407 2403.84615385 2304.14746544 2212.38938053\n",
      " 2127.65957447 2049.18032787 1976.28458498 1908.39694656 1845.01845018]\n",
      "[0.00000000e+00 1.36969414e+01 2.73905059e+01 ... 4.63654884e+04\n",
      " 4.63677541e+04 4.63700193e+04]\n",
      "[    0.          4784.08186179  9169.92627075 13202.44598872\n",
      " 16920.24491644 20356.66840095 23540.6529729  26497.41844501\n",
      " 29249.03517779 31814.89179019 34212.08294441 36455.7325605\n",
      " 38559.26455611 40534.63070185 42392.5032434  44142.43843041\n",
      " 45793.01590722 47351.95798506 48826.23207355 50222.13895647]\n",
      "[    0.          4787.64979117  9195.24658209 13278.71669281\n",
      " 17082.48331933 20642.4198018  23987.91202364 27143.33415659\n",
      " 30129.12726808 32962.60251543 35658.5492318  38229.70215202\n",
      " 40687.10520629 43040.39819735 45298.04518246 47467.51823089\n",
      " 49555.44662806 51567.73904108 53509.68432072 55386.03527176]\n",
      "On this graph, red coloured curve is cumulatitve production gathered by exponential decline, green is hyperbolic decline cumulative production, and blue is harmonic decline cumulative production.\n",
      "As you can see, hyperbolic and harmonic decline curves are almost identical, so the points of the harmonic decline cover hyperbolic and you cannot see green dots or curve.\n"
     ]
    },
    {
     "data": {
      "image/png": "[encoded data removed]",
      "text/plain": [
       "<Figure size 432x288 with 1 Axes>"
      ]
     },
     "metadata": {
      "needs_background": "light"
     },
     "output_type": "display_data"
    }
   ],
   "source": [
    "b = 0.4\n",
    "rateHyp = q_i/((1+b*D_i*timeVec)**(1/b))\n",
    "print(rateHyp)\n",
    "rateHarm = q_i/(1+D_i*timeVec)\n",
    "print(rateHarm)\n",
    "Q_exp = ((q_i-q)/D_i)\n",
    "print(Q_exp)\n",
    "Q_hyp = ((q_i/(D_i*(1-b)))*(1-(1/((1+b*D_i*timeVec)**((1-b)/b)))))\n",
    "print(Q_hyp)\n",
    "Q_harm = (q_i/D_i)*np.log(1+D_i*timeVec)\n",
    "print(Q_harm)\n",
    "plt.plot(Q_exp,'r-s')\n",
    "plt.plot(Q_hyp,'g-s')\n",
    "plt.plot(Q_harm,'b-s')\n",
    "plt.show\n",
    "print('On this graph, red coloured curve is cumulatitve production gathered by exponential decline, green is hyperbolic decline cumulative production, and blue is harmonic decline cumulative production.'); print('As you can see, hyperbolic and harmonic decline curves are almost identical, so the points of the harmonic decline cover hyperbolic and you cannot see green dots or curve.')"
   ]
  }
 ],
 "metadata": {
  "colab": {
   "collapsed_sections": [
    "sYQs3O-6dHFb",
    "8sIJ4A57dHFk",
    "_73RPOcBdHFn",
    "h9s2tfPcdHFo",
    "zt4YHVYPdHGR"
   ],
   "include_colab_link": true,
   "name": "Copy of intro-python-colab.ipynb",
   "provenance": [],
   "version": "0.3.2"
  },
  "kernelspec": {
   "display_name": "Python 3",
   "language": "python",
   "name": "python3"
  },
  "language_info": {
   "codemirror_mode": {
    "name": "ipython",
    "version": 3
   },
   "file_extension": ".py",
   "mimetype": "text/x-python",
   "name": "python",
   "nbconvert_exporter": "python",
   "pygments_lexer": "ipython3",
   "version": "3.7.4"
  }
 },
 "nbformat": 4,
 "nbformat_minor": 1
}
