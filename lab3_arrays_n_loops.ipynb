{
 "cells": [
  {
   "cell_type": "code",
   "execution_count": null,
   "metadata": {},
   "outputs": [],
   "source": []
  },
  {
   "cell_type": "markdown",
   "metadata": {
    "colab_type": "text",
    "id": "u1YDPNtbdHDj"
   },
   "source": [
    "\n",
    " #  Numpy Arrays and Loops\n",
    "\n",
    "## PETE 2061 Lab 3\n",
    "\n",
    "<a id='top'></a>"
   ]
  },
  {
   "cell_type": "markdown",
   "metadata": {
    "colab_type": "text",
    "id": "VB--CYOSdHDm"
   },
   "source": [
    "<a id='overview'></a>\n",
    "# Topics Covered\n",
    "<font color=blue>\n",
    " * [Numpy Overview](#numpy) \n",
    " * [Numpy arange() function](#arange)\n",
    " * [Array Initialization in Numpy](#array_initialization)  \n",
    " * [Plotting](#plot) \n",
    " * [Universal Functions](#ufunc)\n",
    " * [Aggregation Functions](#aggregation)\n",
    " * [Broadcasting rules](#broadcasting) \n",
    " * [Slicing](#slicing)\n",
    " * [Multidimensional Arrays](#multidim)   \n",
    " * [Control Structures](#control)</font>\n",
    "<br>"
   ]
  },
  {
   "cell_type": "markdown",
   "metadata": {},
   "source": [
    "<a id='numpy'></a>\n",
    "## Numpy Overview\n",
    "- NumPy (Numeric Python) is the fundamental package for scientific computing in Python.\n",
    "- It is a Python library that provides a multidimensional array object, that can store arrays of multiple dimensions.\n",
    "- The NumPy package provides basic routines for manipulating large arrays and matrices of numeric data.\n",
    "- It has several functions for fast operations on arrays, including mathematical, logical, shape manipulation, sorting, selecting, I/O, discrete Fourier transforms, basic linear algebra, basic statistical operations, random simulation, etc.\n",
    " "
   ]
  },
  {
   "cell_type": "code",
   "execution_count": 1,
   "metadata": {},
   "outputs": [
    {
     "name": "stdout",
     "output_type": "stream",
     "text": [
      "[1 2 3]\n",
      "[4 5 6]\n"
     ]
    }
   ],
   "source": [
    "import numpy as np           # an alias for the numpy package\n",
    "aList = [1,2,3]\n",
    "bList = [4,5,6]\n",
    "aArray = np.array(aList)     # the np.array() function converts the list [1,2,3] into a numpy array.\n",
    "bArray = np.array(bList)\n",
    "print(aArray)\n",
    "print(bArray)"
   ]
  },
  {
   "cell_type": "code",
   "execution_count": 2,
   "metadata": {},
   "outputs": [
    {
     "name": "stdout",
     "output_type": "stream",
     "text": [
      "[5 7 9]\n",
      "[ 4 10 18]\n",
      "[  1  32 729]\n",
      "[1, 2, 3, 4, 5, 6]\n"
     ]
    }
   ],
   "source": [
    "print(aArray + bArray)   # the + operator is overloaded to perform element-wise addition on arrays\n",
    "print(aArray * bArray)   # the * operator is overloaded to perform element-wise multiplication on arrays\n",
    "print(aArray ** bArray)  # the ** operator raises each element in aArray to the power of the corresponding element in bArray\n",
    "\n",
    "#Note that this behavior is different from what the + operator does on lists eg.\n",
    "print(aList + bList)     # the + operator is overloaded to concatenate lists"
   ]
  },
  {
   "cell_type": "markdown",
   "metadata": {},
   "source": [
    "Assigning elements in a Numpy array"
   ]
  },
  {
   "cell_type": "code",
   "execution_count": 3,
   "metadata": {},
   "outputs": [
    {
     "name": "stdout",
     "output_type": "stream",
     "text": [
      "[11  2  3]\n",
      "[3 3 3]\n"
     ]
    }
   ],
   "source": [
    "aArray[0]=11    # overrides what was in aArray[0] with 11\n",
    "print(aArray)\n",
    "aArray.fill(3)  # sets all the values in the aArray to 3\n",
    "print(aArray)"
   ]
  },
  {
   "cell_type": "code",
   "execution_count": 4,
   "metadata": {},
   "outputs": [
    {
     "name": "stdout",
     "output_type": "stream",
     "text": [
      "[0 0 0]\n",
      "int32\n",
      "<class 'numpy.ndarray'>\n",
      "2\n"
     ]
    }
   ],
   "source": [
    "#another way to set all the values in the aArray to a constant value\n",
    "aArray[:] = 0 # we need to use [:], ortherwise aArray will get assigned to just an integer value of 0\n",
    "print(aArray)\n",
    "print(aArray.dtype)    #aArray.dtype returns the type of the elements stored in aArray (which is a 64-bit integer)\n",
    "print(type(aArray))    #type(aArray) returns the type of the aArray variable\n",
    "\n",
    "#testing what happens if we do not use [:]\n",
    "aArray = 2\n",
    "print(aArray)\n",
    "aArray = np.array([1,2,3])  #re-create the aArray by passing list [1,2,3] into the np.array() function"
   ]
  },
  {
   "cell_type": "markdown",
   "metadata": {},
   "source": [
    "* All elements of a numpy array have to be of the same data type. \n",
    "* \"aArray\" is of type integer as seen in the cell above.\n",
    "* Assigning a floating point number to any of its elements will round the number down to its nearest integer (floor)."
   ]
  },
  {
   "cell_type": "code",
   "execution_count": 17,
   "metadata": {},
   "outputs": [
    {
     "name": "stdout",
     "output_type": "stream",
     "text": [
      "[ 3 12 13]\n",
      "[-3 -3 -3]\n"
     ]
    }
   ],
   "source": [
    "aArray[0] = 3.99  # decimal parts are truncated, be careful!\n",
    "print(aArray)\n",
    "aArray.fill(-3.7)      # fill() will have the same behavior. The array remains an integer array\n",
    "print(aArray)"
   ]
  },
  {
   "cell_type": "markdown",
   "metadata": {},
   "source": [
    "In the cell below, I show three ways to create a floating-point array:"
   ]
  },
  {
   "cell_type": "code",
   "execution_count": 23,
   "metadata": {},
   "outputs": [
    {
     "name": "stdout",
     "output_type": "stream",
     "text": [
      "[11. 12. 13.]\n",
      "float64\n",
      "<class 'numpy.ndarray'>\n",
      "[11. 12. 13.]\n",
      "[11. 12. 13.]\n",
      "[11 12 13]\n"
     ]
    }
   ],
   "source": [
    "#1. By specifying one or more of the entries of the array to be a float during the creating of the array\n",
    "aArray = np.array([11,12,13.00])\n",
    "print(aArray)\n",
    "print(aArray.dtype) #Now array type is float, since one of the elements in it is a float value.\n",
    "print(type(aArray)) #Array is still array.\n",
    "\n",
    "#2. By passing \"dtype=float\" as a second argument of the np.array() function\n",
    "aArray = np.array([11,12,13],dtype=float)\n",
    "print(aArray)\n",
    "\n",
    "#3. By calling the astype() Numpy function when the np.Array() is used to create the array\n",
    "aArray = np.array([11,12,13]).astype(float)\n",
    "print(aArray)\n",
    "\n",
    "#Note that all three approaches can be used to create arrays of other numerical data types like integers or complex numbers\n",
    "#try this\n",
    "\n",
    "aArray = aArray.astype(int)  #astype() works even if the array has already been created \n",
    "print(aArray)"
   ]
  },
  {
   "cell_type": "markdown",
   "metadata": {},
   "source": [
    "<a id='arange'></a>\n",
    "## Numpy arange() function. \n",
    "* The format for the arange() function is arange(start, stop, increment)\n",
    "* like the range() function, if you specify only two arguments, it will be for the start and stop; increment will be 1\n",
    "* like the range() function, if you specify only one argument, it will be for the stop; start will be 0 and increment will be 1"
   ]
  },
  {
   "cell_type": "code",
   "execution_count": 20,
   "metadata": {},
   "outputs": [
    {
     "name": "stdout",
     "output_type": "stream",
     "text": [
      "[0 1 2 3 4 5]\n"
     ]
    }
   ],
   "source": [
    "a = np.arange(0,6,1)    #This will create a numpy array that starts at zero and ends at 5.  \n",
    "print(a)\n",
    "#test the idea of specifying only two (and only one) argument(s) here\n"
   ]
  },
  {
   "cell_type": "markdown",
   "metadata": {},
   "source": [
    "You can get the shape of an array using the numpy shape() function"
   ]
  },
  {
   "cell_type": "code",
   "execution_count": 8,
   "metadata": {},
   "outputs": [
    {
     "name": "stdout",
     "output_type": "stream",
     "text": [
      "(6,)\n",
      "(6,)\n"
     ]
    }
   ],
   "source": [
    "# shape returns a tuple listing the length of the array\n",
    "print(a.shape)\n",
    "print(np.shape(a))   #These two statements are equivalent"
   ]
  },
  {
   "cell_type": "code",
   "execution_count": 9,
   "metadata": {},
   "outputs": [
    {
     "name": "stdout",
     "output_type": "stream",
     "text": [
      "6\n",
      "1\n"
     ]
    }
   ],
   "source": [
    "print(a.size) # or np.size(a), return the total number of elements\n",
    "# return the number of dimensions of the array\n",
    "print(a.ndim)"
   ]
  },
  {
   "cell_type": "code",
   "execution_count": 27,
   "metadata": {},
   "outputs": [
    {
     "name": "stdout",
     "output_type": "stream",
     "text": [
      "[1.5 1.8 2.1]\n",
      "(3,)\n",
      "3\n"
     ]
    }
   ],
   "source": [
    "#You can also create floating point arrays using arange\n",
    "a = np.arange(1.5,2.4,0.3)\n",
    "print(a)\n",
    "print(a.shape)\n",
    "print(a.size)"
   ]
  },
  {
   "cell_type": "markdown",
   "metadata": {},
   "source": [
    "<a id='array_initialization'></a>\n",
    "## Important ways to initialize arrays\n",
    "* using np.arange()\n",
    "* using np.ones()\n",
    "* using np.zeros()\n",
    "* using np.eye()\n",
    "* using np.empty(), followed by fill() or array[:] = constant\n"
   ]
  },
  {
   "cell_type": "code",
   "execution_count": 41,
   "metadata": {},
   "outputs": [
    {
     "name": "stdout",
     "output_type": "stream",
     "text": [
      "[[1. 1. 1.]\n",
      " [1. 1. 1.]]\n",
      "(2, 3)\n",
      "6\n",
      "[[1 1 1]\n",
      " [1 1 1]]\n",
      "int32\n",
      "<class 'numpy.ndarray'>\n"
     ]
    }
   ],
   "source": [
    "a = np.ones((2,3)) # need to supply tuple as shape of the array!\n",
    "print(a)   # You can pass in dtype=int as second argument to create corresponding integer array\n",
    "print(a.shape)\n",
    "print(a.size)\n",
    "a = np.ones((2,3),dtype=int)\n",
    "print(a)\n",
    "print(a.dtype)\n",
    "print(type(a))"
   ]
  },
  {
   "cell_type": "code",
   "execution_count": 42,
   "metadata": {},
   "outputs": [
    {
     "name": "stdout",
     "output_type": "stream",
     "text": [
      "[[0 0 0]\n",
      " [0 0 0]\n",
      " [0 0 0]]\n"
     ]
    }
   ],
   "source": [
    "a = np.zeros((3,3),dtype=int) # need to supply tuple as shape of the array!\n",
    "print(a)"
   ]
  },
  {
   "cell_type": "code",
   "execution_count": 62,
   "metadata": {
    "scrolled": true
   },
   "outputs": [
    {
     "name": "stdout",
     "output_type": "stream",
     "text": [
      "[[1. 0. 0.]\n",
      " [0. 1. 0.]\n",
      " [0. 0. 1.]]\n"
     ]
    }
   ],
   "source": [
    "a = np.identity(3)\n",
    "print(a)"
   ]
  },
  {
   "cell_type": "code",
   "execution_count": 14,
   "metadata": {},
   "outputs": [
    {
     "name": "stdout",
     "output_type": "stream",
     "text": [
      "[[1 0 0 0]\n",
      " [0 1 0 0]\n",
      " [0 0 1 0]\n",
      " [0 0 0 1]]\n"
     ]
    }
   ],
   "source": [
    "a = np.eye(4,dtype=int)  \n",
    "print(a)"
   ]
  },
  {
   "cell_type": "code",
   "execution_count": 6,
   "metadata": {},
   "outputs": [
    {
     "name": "stdout",
     "output_type": "stream",
     "text": [
      "[4. 4.]\n",
      "[5. 5.]\n",
      "[4. 4.]\n"
     ]
    }
   ],
   "source": [
    "import numpy as np\n",
    "a = np.empty(2)\n",
    "print(a)\n",
    "a.fill(5.0)\n",
    "print(a)\n",
    "a[:] = 4.0\n",
    "print(a)"
   ]
  },
  {
   "cell_type": "code",
   "execution_count": 58,
   "metadata": {},
   "outputs": [
    {
     "name": "stdout",
     "output_type": "stream",
     "text": [
      "[0.   0.25 0.5  0.75 1.  ]\n",
      "[ 1.          1.77827941  3.16227766  5.62341325 10.        ]\n"
     ]
    }
   ],
   "source": [
    "#To return evenly spaced numbers over a specified interval, use: \n",
    "#numpy.linspace(start, stop, num=50, endpoint=True, retstep=False, dtype=None)\n",
    "a = np.linspace(0,1,5)\n",
    "print(a)\n",
    "\n",
    "#To return numbers spaced evenly on a log scale.\n",
    "#numpy.logspace(start, stop, num=50, endpoint=True, base=10.0, dtype=None)\n",
    "#In linear space, the sequence starts at base start (base to the power of start) and ends with base stop (see endpoint below).\n",
    "\n",
    "logInterval = np.logspace(0,1,5)\n",
    "print(logInterval)\n"
   ]
  },
  {
   "cell_type": "markdown",
   "metadata": {},
   "source": [
    "<a id='plot'></a>\n",
    "## Quick and Gentle Introduction to Plotting with Matplotlib"
   ]
  },
  {
   "cell_type": "code",
   "execution_count": 5,
   "metadata": {},
   "outputs": [
    {
     "ename": "NameError",
     "evalue": "name 'a' is not defined",
     "output_type": "error",
     "traceback": [
      "\u001b[1;31m---------------------------------------------------------------------------\u001b[0m",
      "\u001b[1;31mNameError\u001b[0m                                 Traceback (most recent call last)",
      "\u001b[1;32m<ipython-input-5-072cb19e832c>\u001b[0m in \u001b[0;36m<module>\u001b[1;34m\u001b[0m\n\u001b[0;32m      2\u001b[0m \u001b[0mget_ipython\u001b[0m\u001b[1;33m(\u001b[0m\u001b[1;33m)\u001b[0m\u001b[1;33m.\u001b[0m\u001b[0mrun_line_magic\u001b[0m\u001b[1;33m(\u001b[0m\u001b[1;34m'matplotlib'\u001b[0m\u001b[1;33m,\u001b[0m \u001b[1;34m'inline'\u001b[0m\u001b[1;33m)\u001b[0m\u001b[1;33m\u001b[0m\u001b[1;33m\u001b[0m\u001b[0m\n\u001b[0;32m      3\u001b[0m \u001b[1;31m# %matplotlib inline is useful in Jupyter notebook but should be commented out in Python editors (eg. Spyder)\u001b[0m\u001b[1;33m\u001b[0m\u001b[1;33m\u001b[0m\u001b[1;33m\u001b[0m\u001b[0m\n\u001b[1;32m----> 4\u001b[1;33m \u001b[0mplt\u001b[0m\u001b[1;33m.\u001b[0m\u001b[0mplot\u001b[0m\u001b[1;33m(\u001b[0m\u001b[0ma\u001b[0m\u001b[1;33m,\u001b[0m\u001b[1;34m'b-s'\u001b[0m\u001b[1;33m)\u001b[0m   \u001b[1;31m# The 3 characters in 'b-s' stand for \"blue\", \"solid line\", and \"square marker\", respectively\u001b[0m\u001b[1;33m\u001b[0m\u001b[1;33m\u001b[0m\u001b[0m\n\u001b[0m\u001b[0;32m      5\u001b[0m \u001b[0mplt\u001b[0m\u001b[1;33m.\u001b[0m\u001b[0mshow\u001b[0m\u001b[1;33m(\u001b[0m\u001b[1;33m)\u001b[0m\u001b[1;33m\u001b[0m\u001b[1;33m\u001b[0m\u001b[0m\n",
      "\u001b[1;31mNameError\u001b[0m: name 'a' is not defined"
     ]
    }
   ],
   "source": [
    "import matplotlib.pyplot as plt\n",
    "%matplotlib inline\n",
    "# %matplotlib inline is useful in Jupyter notebook but should be commented out in Python editors (eg. Spyder)\n",
    "plt.plot(a,'b-s')   # The 3 characters in 'b-s' stand for \"blue\", \"solid line\", and \"square marker\", respectively\n",
    "plt.show()"
   ]
  },
  {
   "cell_type": "code",
   "execution_count": 51,
   "metadata": {},
   "outputs": [
    {
     "data": {
      "image/png": "[encoded data removed]",
      "text/plain": [
       "<Figure size 432x288 with 1 Axes>"
      ]
     },
     "metadata": {
      "needs_background": "light"
     },
     "output_type": "display_data"
    }
   ],
   "source": [
    "plt.plot(logInterval,'r-s')\n",
    "plt.show()"
   ]
  },
  {
   "cell_type": "code",
   "execution_count": 52,
   "metadata": {},
   "outputs": [
    {
     "data": {
      "image/png": "[encoded data removed]",
      "text/plain": [
       "<Figure size 432x288 with 1 Axes>"
      ]
     },
     "metadata": {
      "needs_background": "light"
     },
     "output_type": "display_data"
    }
   ],
   "source": [
    "plt.plot(a,logInterval,'g-s')\n",
    "plt.show()"
   ]
  },
  {
   "cell_type": "markdown",
   "metadata": {},
   "source": [
    "<a id='ufunc'></a>\n",
    "## Universal Functions (ufunc) in Numpy\n",
    "* A ufunc is a “vectorized” wrapper for a function that takes a fixed number of specific inputs and produces a fixed number of specific outputs. They include\n",
    "    * Arithmetic Operators: `+, -, *, /, //, %, **`\n",
    "    * Comparison Operators: `<, >, <=, >=, ==, !=`\n",
    "    * Bitwise Operators: `&, |, ~, ^, >>, <<`\n",
    "    * Trigonometric Functions: `np.sin, np.cos, np.tan, etc`\n",
    "    * Exponential Functions: `np.exp, np.log, np.log10, etc`"
   ]
  },
  {
   "cell_type": "code",
   "execution_count": 66,
   "metadata": {},
   "outputs": [
    {
     "name": "stdout",
     "output_type": "stream",
     "text": [
      "[0.         0.10833078 0.21666156 0.32499234 0.43332312 0.54165391\n",
      " 0.64998469 0.75831547 0.86664625 0.97497703 1.08330781 1.19163859\n",
      " 1.29996937 1.40830016 1.51663094 1.62496172 1.7332925  1.84162328\n",
      " 1.94995406 2.05828484 2.16661562 2.2749464  2.38327719 2.49160797\n",
      " 2.59993875 2.70826953 2.81660031 2.92493109 3.03326187 3.14159265]\n",
      "[0.         0.21666156 0.43332312 0.64998469 0.86664625 1.08330781\n",
      " 1.29996937 1.51663094 1.7332925  1.94995406 2.16661562 2.38327719\n",
      " 2.59993875 2.81660031 3.03326187 3.24992343 3.466585   3.68324656\n",
      " 3.89990812 4.11656968 4.33323125 4.54989281 4.76655437 4.98321593\n",
      " 5.1998775  5.41653906 5.63320062 5.84986218 6.06652374 6.28318531]\n"
     ]
    }
   ],
   "source": [
    "xVec = np.linspace(0,np.pi,30) #without range this operation prints 50 elements\n",
    "print(xVec)\n",
    "xVec *= 2    #this is element wise multiplication of original xVec by 2\n",
    "print(xVec)"
   ]
  },
  {
   "cell_type": "code",
   "execution_count": 67,
   "metadata": {},
   "outputs": [
    {
     "name": "stdout",
     "output_type": "stream",
     "text": [
      "[ 0.00000000e+00  2.14970440e-01  4.19889102e-01  6.05174215e-01\n",
      "  7.62162055e-01  8.83512044e-01  9.63549993e-01  9.98533414e-01\n",
      "  9.86826523e-01  9.28976720e-01  8.27688998e-01  6.87699459e-01\n",
      "  5.15553857e-01  3.19301530e-01  1.08119018e-01 -1.08119018e-01\n",
      " -3.19301530e-01 -5.15553857e-01 -6.87699459e-01 -8.27688998e-01\n",
      " -9.28976720e-01 -9.86826523e-01 -9.98533414e-01 -9.63549993e-01\n",
      " -8.83512044e-01 -7.62162055e-01 -6.05174215e-01 -4.19889102e-01\n",
      " -2.14970440e-01 -2.44929360e-16]\n"
     ]
    },
    {
     "data": {
      "image/png": "[encoded data removed]",
      "text/plain": [
       "<Figure size 432x288 with 1 Axes>"
      ]
     },
     "metadata": {
      "needs_background": "light"
     },
     "output_type": "display_data"
    }
   ],
   "source": [
    "yVec = np.sin(xVec)\n",
    "print(yVec)\n",
    "import matplotlib.pyplot as plt\n",
    "plt.plot(xVec,yVec,'r-s')\n",
    "plt.show()"
   ]
  },
  {
   "cell_type": "markdown",
   "metadata": {},
   "source": [
    "<a id='aggregation'></a>\n",
    "## Aggregation Functions in Numpy\n",
    "- Aggregations are functions which summarize the values in an array (e.g. min, max, sum, mean, etc.)\n",
    "- Numpy aggregations are much faster than Python built-in functions\n",
    "- They all have the same call style:\n",
    "\n",
    "    `np.min() np.max() np.sum() np.prod()`<br>\n",
    "`np.all() np.median() np.percentile()`   \n",
    "`np.mean() np.std() np.var() np.any()`<br>\n",
    "`np.argsort()`<br>\n",
    "`np.argmin() np.argmax() . . .`<br>\n",
    "`np.nanmin() np.nanmax() np.nansum(). . .`<br>\n",
    "\n",
    "<!--\n",
    "<img src=\"figure/np_aggregation.png\", style=\"float: left;\", width=\"300\">\n",
    "-->\n",
    "\n",
    "![myphoto](https://github.com/lsuhpchelp/lbrnloniworkshop2019/raw/master/day2_python/figure/np_aggregation.png)"
   ]
  },
  {
   "cell_type": "code",
   "execution_count": 74,
   "metadata": {},
   "outputs": [
    {
     "name": "stdout",
     "output_type": "stream",
     "text": [
      "[[0 1 2]\n",
      " [3 4 5]]\n"
     ]
    }
   ],
   "source": [
    "a=np.arange(6).reshape(2,-1)   # \"Pythonic\" expressions. They call functions sequentially from left to right\n",
    "# np.arange(6) first creates a vector [0,1,2,3,4,5], then reshape (2,-1) will reshape this vector to have \n",
    "# 2 rows and whatever number of columns will be needed based on the number of elements in the array\n",
    "print(a)"
   ]
  },
  {
   "cell_type": "code",
   "execution_count": 75,
   "metadata": {},
   "outputs": [
    {
     "name": "stdout",
     "output_type": "stream",
     "text": [
      "6\n",
      "2\n"
     ]
    }
   ],
   "source": [
    "print(a.size) #returns the total number of elements\n",
    "print(a.ndim) #returns the number of dimensions of the array. Is it 1D, 2D or 3D?"
   ]
  },
  {
   "cell_type": "code",
   "execution_count": 76,
   "metadata": {},
   "outputs": [
    {
     "name": "stdout",
     "output_type": "stream",
     "text": [
      "15\n",
      "[3 5 7]\n"
     ]
    }
   ],
   "source": [
    "print(a.sum())   # adds up all values and returns one aggregate value. Equivalent to print(np.sum(a))\n",
    "# note this is not numpy’s sum! and it doesn't aggregate into one value\n",
    "print(sum(a))"
   ]
  },
  {
   "cell_type": "code",
   "execution_count": 87,
   "metadata": {},
   "outputs": [
    {
     "name": "stdout",
     "output_type": "stream",
     "text": [
      "15\n",
      "[3 5 7]\n",
      "[ 3 12]\n"
     ]
    }
   ],
   "source": [
    "print(np.sum(a))  #adds up all values and returns one aggregate value. Equivalent to print(a.sum()) \n",
    "print(np.sum(a,axis=0))   #as shown in figure above, it adds downwards. It will give you a row!\n",
    "print(np.sum(a,axis=1))   #as shown in figure above, it adds sideways. It will give you a column!"
   ]
  },
  {
   "cell_type": "code",
   "execution_count": 107,
   "metadata": {},
   "outputs": [
    {
     "name": "stdout",
     "output_type": "stream",
     "text": [
      "[[0.5371 0.3237 0.8623]\n",
      " [0.6012 0.8144 0.3121]]\n",
      "[[53.7069 32.3736 86.2252]\n",
      " [60.1201 81.4436 31.2148]]\n"
     ]
    }
   ],
   "source": [
    "# Numpy Statistical Methods\n",
    "np.set_printoptions(precision=4)\n",
    "# generate 2x3 random float array\n",
    "a=np.random.random(6).reshape(2,3)  #np.random.random() will generate 6 random numbers between 0 and 1.\n",
    "print(a)\n",
    "b = np.array(a.copy())\n",
    "b *= 100\n",
    "print (b) #to increase range of number multiply the array by a number\n",
    "#a.dtype=int\n",
    "#print(a)"
   ]
  },
  {
   "cell_type": "code",
   "execution_count": 108,
   "metadata": {},
   "outputs": [
    {
     "name": "stdout",
     "output_type": "stream",
     "text": [
      "[0.5691 0.5691 0.5872]\n",
      "[0.5744 0.5759]\n",
      "0.5751404139326118\n"
     ]
    }
   ],
   "source": [
    "print(a.mean(axis=0))  # It will give a row. So, it will find the mean of each column.\n",
    "print(a.mean(axis=1))  # It will give a column. So, it will find the mean of each row.\n",
    "print(a.mean())        # finds the mean of all the numbers in the 2x3 array. Will return only one number."
   ]
  },
  {
   "cell_type": "code",
   "execution_count": 109,
   "metadata": {},
   "outputs": [
    {
     "name": "stdout",
     "output_type": "stream",
     "text": [
      "[0.6285 0.5278]\n"
     ]
    }
   ],
   "source": [
    "# You can also perform weighted averaging by specifying \"weights\" as a second argument\n",
    "print(np.average(a,weights=[1,2,3],axis=1))  # It will give a column"
   ]
  },
  {
   "cell_type": "code",
   "execution_count": 110,
   "metadata": {},
   "outputs": [
    {
     "name": "stdout",
     "output_type": "stream",
     "text": [
      "[0.0321 0.2453 0.2751]\n",
      "[0.0321 0.2453 0.2751]\n",
      "[0.049  0.0424]\n",
      "[0.049  0.0424]\n"
     ]
    }
   ],
   "source": [
    "print(a.std(axis=0))          # standard deviation\n",
    "print(np.std(a, axis=0))      # standard deviation\n",
    "print(np.var(a, axis=1))      # variance\n",
    "print(a.var(axis=1))          # variance"
   ]
  },
  {
   "cell_type": "code",
   "execution_count": 111,
   "metadata": {},
   "outputs": [
    {
     "name": "stdout",
     "output_type": "stream",
     "text": [
      "0.31214843694584105\n",
      "0.8622515969963792\n",
      "[0 0 1]\n",
      "[2 1]\n",
      "5\n"
     ]
    }
   ],
   "source": [
    "print(a.min())\n",
    "print(np.max(a))\n",
    "print(a.argmin(axis=0))    # find index of the minimum\n",
    "print(a.argmax(axis=1))\n",
    "print(np.argmin(a))"
   ]
  },
  {
   "cell_type": "markdown",
   "metadata": {},
   "source": [
    "<a id='broadcasting'></a>\n",
    "### Broadcasting Rules\n",
    "- If array shapes differ, left-pad the smaller shape with 1s\n",
    "- If any dimension does not match, broadcast the dimension with size=1\n",
    "\n",
    "<!--\n",
    "<img src=\"figure/np_broadcast.png\", align=\"left\", width=\"500\"></br>\n",
    "-->\n",
    "\n",
    "![myphoto](https://github.com/lsuhpchelp/lbrnloniworkshop2019/raw/master/day2_python/figure/np_broadcast_scale.png)"
   ]
  },
  {
   "cell_type": "markdown",
   "metadata": {},
   "source": [
    "- If neither non-matching dimension is 1, raise an error.\n",
    "\n",
    "<!--\n",
    "<img src=\"figure/np_broadcast_error.png\", align=\"left\", width=\"200\">\n",
    "-->\n",
    "\n",
    "![myphoto](https://github.com/lsuhpchelp/lbrnloniworkshop2019/raw/master/day2_python/figure/np_broadcast_error.png)"
   ]
  },
  {
   "cell_type": "code",
   "execution_count": 112,
   "metadata": {},
   "outputs": [
    {
     "name": "stdout",
     "output_type": "stream",
     "text": [
      "a =  [0 1 2]\n",
      "b =  5\n",
      "a + b =  [5 6 7]\n"
     ]
    }
   ],
   "source": [
    "a = np.arange(3)\n",
    "print(\"a = \", a)\n",
    "b = 5\n",
    "print(\"b = \", b)\n",
    "print(\"a + b = \",a + b)"
   ]
  },
  {
   "cell_type": "code",
   "execution_count": 113,
   "metadata": {},
   "outputs": [
    {
     "name": "stdout",
     "output_type": "stream",
     "text": [
      "a =\n",
      "[[0]\n",
      " [1]\n",
      " [2]]\n",
      "b = 5\n",
      "a + b =\n",
      "[[5]\n",
      " [6]\n",
      " [7]]\n"
     ]
    }
   ],
   "source": [
    "a = np.arange(3).reshape(-1,1)\n",
    "print(\"a =\")\n",
    "print(a)\n",
    "b = 5\n",
    "print(\"b =\", b)\n",
    "print(\"a + b =\")\n",
    "print(a+b)"
   ]
  },
  {
   "cell_type": "code",
   "execution_count": 114,
   "metadata": {},
   "outputs": [
    {
     "name": "stdout",
     "output_type": "stream",
     "text": [
      "a=\n",
      "[[1. 1. 1.]\n",
      " [1. 1. 1.]\n",
      " [1. 1. 1.]]\n",
      "b=\n",
      "[0 1 2]\n",
      "a+b=\n",
      "[[1. 2. 3.]\n",
      " [1. 2. 3.]\n",
      " [1. 2. 3.]]\n"
     ]
    }
   ],
   "source": [
    "a = np.ones((3,3))\n",
    "print(\"a=\")\n",
    "print(a)\n",
    "b = np.arange(3)\n",
    "print(\"b=\")\n",
    "print(b)\n",
    "print(\"a+b=\")\n",
    "print(a+b)"
   ]
  },
  {
   "cell_type": "code",
   "execution_count": 115,
   "metadata": {},
   "outputs": [
    {
     "name": "stdout",
     "output_type": "stream",
     "text": [
      "a=\n",
      "[[1. 1. 1.]\n",
      " [1. 1. 1.]\n",
      " [1. 1. 1.]]\n",
      "b=\n",
      "[[0]\n",
      " [1]\n",
      " [2]]\n",
      "a+b=\n",
      "[[1. 1. 1.]\n",
      " [2. 2. 2.]\n",
      " [3. 3. 3.]]\n"
     ]
    }
   ],
   "source": [
    "a = np.ones((3,3))\n",
    "print(\"a=\")\n",
    "print(a)\n",
    "b = np.arange(3).reshape(-1,1)\n",
    "print(\"b=\")\n",
    "print(b)\n",
    "print(\"a+b=\")\n",
    "print(a+b)"
   ]
  },
  {
   "cell_type": "markdown",
   "metadata": {},
   "source": [
    "<a id='slicing'></a>\n",
    "## Slicing Numpy Arrays\n",
    "\n",
    "- `arr[lower:upper:step]` or `arr[start:stop:increment]`\n",
    "- Extracts a portion of a sequence by specifying a lower and upper bound. The lower-bound element is included, but the upper-bound element is not included. Mathematically: `[lower, upper)`. The step value specifies the stride between elements"
   ]
  },
  {
   "cell_type": "code",
   "execution_count": 116,
   "metadata": {},
   "outputs": [
    {
     "name": "stdout",
     "output_type": "stream",
     "text": [
      "[11 12]\n",
      "[11 12]\n",
      "[10 11 12 13 14]\n",
      "[10 12 14]\n"
     ]
    }
   ],
   "source": [
    "a = np.array([10,11,12,13,14])\n",
    "print(a[1:3])    # start at the second element and end at index (3-1)\n",
    "print(a[1:-2])   # start at the second element and end at 3rd to the last element\n",
    "print(a[:])      # entire array\n",
    "print(a[::2])    # from 1st element, print every other element (even indices)\n",
    "#the indexing ideas we learned under lists apply here too"
   ]
  },
  {
   "cell_type": "markdown",
   "metadata": {},
   "source": [
    "### Slices are references\n",
    "- Slices are references to memory in the original array\n",
    "- Changing values in a slice also changes the original array!"
   ]
  },
  {
   "cell_type": "code",
   "execution_count": 117,
   "metadata": {},
   "outputs": [
    {
     "name": "stdout",
     "output_type": "stream",
     "text": [
      "[0 1 2 3 4]\n",
      "[2 3]\n",
      "[0 1 7 3 4]\n"
     ]
    }
   ],
   "source": [
    "a = np.arange(5)\n",
    "print(a)\n",
    "b = a[2:4]  # b is NOT a new location in memory, it points to a region in memory where these elements of a are stored\n",
    "print(b) \n",
    "b[0]=7  # changing what is stored in b changes the corresponding element in a, because b only points to a region in a\n",
    "print(a)"
   ]
  },
  {
   "cell_type": "markdown",
   "metadata": {},
   "source": [
    "<a id='multidim'></a>\n",
    "## Multi-dimensional Arrays"
   ]
  },
  {
   "cell_type": "code",
   "execution_count": 124,
   "metadata": {},
   "outputs": [
    {
     "name": "stdout",
     "output_type": "stream",
     "text": [
      "[[ 0.  1.  2.  3.]\n",
      " [10. 11. 12. 13.]]\n",
      "a.shape = (2, 4), a.size = 8, a.ndim = 2\n"
     ]
    }
   ],
   "source": [
    "# A few 2D operations similar to the 1D operations shown above\n",
    "a = np.array([[ 0, 1, 2, 3],[10,11,12,13]], float)\n",
    "print(a)\n",
    "print(f\"a.shape = {a.shape}, a.size = {a.size}, a.ndim = {a.ndim}\")"
   ]
  },
  {
   "cell_type": "code",
   "execution_count": 126,
   "metadata": {},
   "outputs": [
    {
     "name": "stdout",
     "output_type": "stream",
     "text": [
      "-1.0\n",
      "[[ 0.  1.  2.  3.]\n",
      " [10. 11. 12. -1.]]\n"
     ]
    }
   ],
   "source": [
    "print(a[1,3]) # print the element on 2nd row, 4th column. This is how we reference a 2D array element\n",
    "a[1,3] = -1   # sets the value of the indexed element to -1\n",
    "#print (a)\n",
    "a = np.array([[ 0, 1, 2, 3],[10,11,12,13]], float)"
   ]
  },
  {
   "cell_type": "code",
   "execution_count": 127,
   "metadata": {},
   "outputs": [
    {
     "name": "stdout",
     "output_type": "stream",
     "text": [
      "[[ 1  2  3  4  5]\n",
      " [ 6  7  8  9 10]\n",
      " [11 12 13 14 15]\n",
      " [16 17 18 19 20]\n",
      " [21 22 23 24 25]]\n"
     ]
    }
   ],
   "source": [
    "a = np.arange(1,26)\n",
    "a = a.reshape(5,5)   # reshape vector of 1 to 25, into a 2D array of dimension 5x5\n",
    "print(a)"
   ]
  },
  {
   "cell_type": "code",
   "execution_count": 128,
   "metadata": {},
   "outputs": [
    {
     "name": "stdout",
     "output_type": "stream",
     "text": [
      "[4]\n",
      "[[19 20]\n",
      " [24 25]]\n"
     ]
    }
   ],
   "source": [
    "print(a[0,3:4])\n",
    "print(a[3:,3:])"
   ]
  },
  {
   "cell_type": "markdown",
   "metadata": {},
   "source": [
    "<a id='control'></a>\n",
    "## Control Structures \n",
    "<font color=blue>\n",
    "* if-else\n",
    "* for loops, while loops\n",
    "* break: jump out of the current loop\n",
    "* continue: jump to the top of next cycle within the loop\n",
    "* pass: do nothing \n",
    "</font> \n",
    "[top](#top)"
   ]
  },
  {
   "cell_type": "code",
   "execution_count": null,
   "metadata": {},
   "outputs": [],
   "source": [
    "for num in range(4):     # This will loop for every num in the data structure range(4). \"num\" can be any variable.\n",
    "    print(num)           # NOTE: Indentation signifies code blocks"
   ]
  },
  {
   "cell_type": "code",
   "execution_count": null,
   "metadata": {},
   "outputs": [],
   "source": [
    "index=0\n",
    "while (index < 4):        #this will loop until the condition (index < 3) becomes false.\n",
    "    print(index)\n",
    "    index = index + 1"
   ]
  },
  {
   "cell_type": "code",
   "execution_count": 6,
   "metadata": {},
   "outputs": [
    {
     "data": {
      "image/png": "[encoded data removed]",
      "text/plain": [
       "<Figure size 432x288 with 1 Axes>"
      ]
     },
     "metadata": {
      "needs_background": "light"
     },
     "output_type": "display_data"
    }
   ],
   "source": [
    "import numpy as np\n",
    "import matplotlib.pyplot as plt\n",
    "%matplotlib inline\n",
    "#Modify this code to plot the cosine function between 0 and 360 degrees\n",
    "deg2radians = np.pi/180\n",
    "angleVec = np.arange(0,91,5)\n",
    "cosAngle = np.zeros(angleVec.shape)  #uses the shape of angleVec to initialize cosAngle    \n",
    "indx = 0\n",
    "#for angle in range(0,91,5): \n",
    "for angle in angleVec:   \n",
    "    cosAngle[indx] = np.cos(angle*deg2radians)\n",
    "    indx += 1\n",
    "    \n",
    "plt.plot(angleVec,cosAngle)\n",
    "plt.show()"
   ]
  },
  {
   "cell_type": "code",
   "execution_count": 7,
   "metadata": {
    "colab": {},
    "colab_type": "code",
    "id": "on_o62WTdHEt"
   },
   "outputs": [
    {
     "name": "stdout",
     "output_type": "stream",
     "text": [
      "dog\n",
      "cat\n",
      "horse\n"
     ]
    }
   ],
   "source": [
    "# iterate list elements with a for loop\n",
    "animals = ['dog','cat','horse']\n",
    "for name in animals:\n",
    "    print(name)"
   ]
  },
  {
   "cell_type": "code",
   "execution_count": 9,
   "metadata": {
    "colab": {},
    "colab_type": "code",
    "id": "iCKHMWDNdHEv"
   },
   "outputs": [
    {
     "name": "stdout",
     "output_type": "stream",
     "text": [
      "1 dog\n",
      "2 cat\n",
      "3 horse\n"
     ]
    }
   ],
   "source": [
    "for index, name in enumerate(animals):   # this will give both the indices and items stored in animals\n",
    "    print(index+1, name)  # note the addition of 1 to index. Observe that index is not modified in the print statement.\n",
    "    #adds an index to an element, first element starts from 0+1 = 1"
   ]
  },
  {
   "cell_type": "code",
   "execution_count": 10,
   "metadata": {
    "colab": {},
    "colab_type": "code",
    "id": "9gcG6o9NdHFG"
   },
   "outputs": [
    {
     "name": "stdout",
     "output_type": "stream",
     "text": [
      "{'cats': 4, 'dogs': 2, 'sheep': 3}\n"
     ]
    }
   ],
   "source": [
    "my_dict = {'cats': 4, 'dogs':2, 'sheep':3}\n",
    "print(my_dict)"
   ]
  },
  {
   "cell_type": "code",
   "execution_count": 11,
   "metadata": {
    "colab": {},
    "colab_type": "code",
    "id": "zsD9iVhudHFT"
   },
   "outputs": [
    {
     "name": "stdout",
     "output_type": "stream",
     "text": [
      "cats 4\n",
      "dogs 2\n",
      "sheep 3\n"
     ]
    }
   ],
   "source": [
    "for key, value in my_dict.items():\n",
    "    print(key, value)"
   ]
  },
  {
   "cell_type": "code",
   "execution_count": 1,
   "metadata": {},
   "outputs": [
    {
     "name": "stdout",
     "output_type": "stream",
     "text": [
      "0\n",
      "1\n",
      "2\n",
      "3\n",
      "0\n",
      "1\n",
      "2\n",
      "3\n"
     ]
    }
   ],
   "source": [
    "counter = 0\n",
    "while (counter < 4):\n",
    "    print(counter)\n",
    "    counter = counter + 1 #stimultaneously counter += 1\n",
    "for item in (0,1,2,3):\n",
    "    print(item)"
   ]
  },
  {
   "cell_type": "code",
   "execution_count": null,
   "metadata": {},
   "outputs": [],
   "source": [
    "#A population refers to the data set that contaits all possible items of interest\n",
    "#Sample refers to teh data set that contains only a fwe random or otherwise representative elements of a data set\n",
    "#The measure of central tendency is the most likely value of a data set\n",
    "#Parameters are measures of elements \n"
   ]
  },
  {
   "cell_type": "code",
   "execution_count": 10,
   "metadata": {},
   "outputs": [
    {
     "name": "stdout",
     "output_type": "stream",
     "text": [
      "a is greater than b\n"
     ]
    }
   ],
   "source": [
    "a = 10\n",
    "b = 9\n",
    "if (b>a):\n",
    "    print (\"b is greater than a\")\n",
    "elif (a == b):\n",
    "    print (\"b is not less than a\")\n",
    "else:\n",
    "    print (\"a is greater than b\")"
   ]
  },
  {
   "cell_type": "code",
   "execution_count": null,
   "metadata": {},
   "outputs": [],
   "source": []
  }
 ],
 "metadata": {
  "colab": {
   "collapsed_sections": [
    "sYQs3O-6dHFb",
    "8sIJ4A57dHFk",
    "_73RPOcBdHFn",
    "h9s2tfPcdHFo",
    "zt4YHVYPdHGR"
   ],
   "include_colab_link": true,
   "name": "Copy of intro-python-colab.ipynb",
   "provenance": [],
   "version": "0.3.2"
  },
  "kernelspec": {
   "display_name": "Python 3",
   "language": "python",
   "name": "python3"
  },
  "language_info": {
   "codemirror_mode": {
    "name": "ipython",
    "version": 3
   },
   "file_extension": ".py",
   "mimetype": "text/x-python",
   "name": "python",
   "nbconvert_exporter": "python",
   "pygments_lexer": "ipython3",
   "version": "3.7.4"
  }
 },
 "nbformat": 4,
 "nbformat_minor": 1
}
